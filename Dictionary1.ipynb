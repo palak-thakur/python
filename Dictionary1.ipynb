{
 "cells": [
  {
   "cell_type": "code",
   "execution_count": 32,
   "id": "3e362491",
   "metadata": {},
   "outputs": [
    {
     "name": "stdout",
     "output_type": "stream",
     "text": [
      "[('a', 9), ('e', 3), ('f', 7), ('x', 6), ('z', 5)]\n",
      "[('x', 6), ('a', 9), ('f', 7), ('e', 3), ('z', 5)]\n"
     ]
    }
   ],
   "source": [
    "#sorting dictionary\n",
    "dc = {\"x\":6, \"a\":9, \"f\":7, \"e\":3, \"z\":5}\n",
    "dc\n",
    "#by key\n",
    "print(sorted(dc.items(), key = lambda x: x[0]))\n",
    "\n",
    "#by value\n",
    "print(sorted(dc.items(), key = lambda x: [1]))"
   ]
  },
  {
   "cell_type": "code",
   "execution_count": 17,
   "id": "13540b04",
   "metadata": {},
   "outputs": [
    {
     "data": {
      "text/plain": [
       "0"
      ]
     },
     "execution_count": 17,
     "metadata": {},
     "output_type": "execute_result"
    }
   ],
   "source": [
    "#handling missing keys\n",
    "dc = {'a':1, 'b':2 }\n",
    "dc.get('c', 0)"
   ]
  },
  {
   "cell_type": "code",
   "execution_count": 21,
   "id": "c4116d48",
   "metadata": {},
   "outputs": [
    {
     "name": "stdout",
     "output_type": "stream",
     "text": [
      "{(10, 20, 30): 20, (1, 2, 3): 2}\n",
      "[10, 1]\t[20, 2]\t[30, 3]\t[20, 2]\n"
     ]
    }
   ],
   "source": [
    "# Python dictionary with keys having multiple inputs\n",
    "x, y, z = 10, 20, 30\n",
    "dc = {}\n",
    "dc[x, y, z] = x + 2*y - z\n",
    "\n",
    "x, y, z = 1, 2, 3\n",
    "dc[x, y, z] = x + 2*y - z\n",
    "\n",
    "print(dc)\n",
    "\n",
    "#accesing these values\n",
    "x_val = []\n",
    "y_val = []\n",
    "z_val = []\n",
    "ans = []\n",
    "for ele in dc:\n",
    "    x_val.append(ele[0])\n",
    "    y_val.append(ele[1])\n",
    "    z_val.append(ele[2])\n",
    "    ans.append(dc[ele[0],ele[1], ele[2]])\n",
    "print(x_val, y_val, z_val, ans, sep = \"\\t\")    \n",
    "    "
   ]
  },
  {
   "cell_type": "code",
   "execution_count": 25,
   "id": "5a411219",
   "metadata": {},
   "outputs": [
    {
     "data": {
      "text/plain": [
       "600"
      ]
     },
     "execution_count": 25,
     "metadata": {},
     "output_type": "execute_result"
    }
   ],
   "source": [
    "#Python program to find the sum of all items in a dictionary\n",
    "def sum_dc(dc):\n",
    "    return sum(dc.values())\n",
    "dc = {'a': 100, 'b':200, 'c':300}\n",
    "sum_dc(dc)"
   ]
  },
  {
   "cell_type": "code",
   "execution_count": 31,
   "id": "a145455b",
   "metadata": {},
   "outputs": [
    {
     "data": {
      "text/plain": [
       "[{'name': 'Nikhil', 'age': 19},\n",
       " {'name': 'Nandini', 'age': 20},\n",
       " {'name': 'Manjeet', 'age': 20}]"
      ]
     },
     "execution_count": 31,
     "metadata": {},
     "output_type": "execute_result"
    }
   ],
   "source": [
    "#śort dictionary by values\n",
    "lis = [{ \"name\" : \"Nandini\", \"age\" : 20},\n",
    "{ \"name\" : \"Manjeet\", \"age\" : 20 },\n",
    "{ \"name\" : \"Nikhil\" , \"age\" : 19 }]\n",
    "sorted(lis, key = lambda x: x['age']) #for descending order reverse= True"
   ]
  },
  {
   "cell_type": "code",
   "execution_count": 37,
   "id": "12412fa9",
   "metadata": {},
   "outputs": [
    {
     "name": "stdout",
     "output_type": "stream",
     "text": [
      "{'a': 10, 'b': 8, 'd': 6, 'c': 4}\n",
      "{'a': 10, 'b': 8, 'd': 6, 'c': 4}\n"
     ]
    }
   ],
   "source": [
    "#merging 2 dictionary\n",
    "dict1 = {'a': 10, 'b': 8}\n",
    "dict2 = {'d': 6, 'c': 4}\n",
    "\n",
    "res = {**dict1, **dict2} # 1st method , create new dictionary\n",
    "# ** is used for keyword arguments and * for non keyword arguments\n",
    "dict1.update(dict2)  #using update\n",
    "print(dict1, res, sep = \"\\n\")"
   ]
  },
  {
   "cell_type": "code",
   "execution_count": 4,
   "id": "dd6b8d1a",
   "metadata": {},
   "outputs": [
    {
     "data": {
      "text/plain": [
       "{'c': 30, 'a': 10, 'b': 20}"
      ]
     },
     "execution_count": 4,
     "metadata": {},
     "output_type": "execute_result"
    }
   ],
   "source": [
    "#iserting element in the beginning\n",
    "from collections import OrderedDict\n",
    "dc = OrderedDict({'a':10, 'b':20})\n",
    "\n",
    "dc.update({'c':30})\n",
    "dc.move_to_end('c', last =False)\n",
    "dc"
   ]
  },
  {
   "cell_type": "code",
   "execution_count": 23,
   "id": "f6cee70d",
   "metadata": {},
   "outputs": [
    {
     "name": "stdout",
     "output_type": "stream",
     "text": [
      "[20, 80]\n"
     ]
    }
   ],
   "source": [
    "#common elements in 3 lists\n",
    "from collections import Counter\n",
    "ar1 = [1, 5, 10, 20, 40, 80]\n",
    "ar2 = [6, 7, 20, 80, 100]\n",
    "ar3 = [3, 4, 15, 20, 30, 70, 80, 120]\n",
    "c1 = Counter(ar1)\n",
    "c2 = Counter(ar2)\n",
    "c3 = Counter(ar3)\n",
    "res = dict(c1.items()& c2.items()& c3.items())\n",
    "ls = []\n",
    "for key, val in res.items():\n",
    "    ls.append(key)\n",
    "print(ls)    \n",
    "    "
   ]
  },
  {
   "cell_type": "code",
   "execution_count": 31,
   "id": "4400bd34",
   "metadata": {},
   "outputs": [
    {
     "name": "stdout",
     "output_type": "stream",
     "text": [
      "('john', 4)\n"
     ]
    }
   ],
   "source": [
    "#winner of elections\n",
    "names =['john','johnny','jackie','johnny',\n",
    "        'john','jackie','jamie','jamie',\n",
    "        'john','johnny','jamie','johnny',\n",
    "        'john']\n",
    "res = {}\n",
    "for ele in names:\n",
    "    res[ele] = res.get(ele, 0) + 1\n",
    "print(max(res.items(), key = lambda x: x[1]))   \n",
    "    "
   ]
  },
  {
   "cell_type": "code",
   "execution_count": 38,
   "id": "eee91214",
   "metadata": {},
   "outputs": [
    {
     "name": "stdout",
     "output_type": "stream",
     "text": [
      "a\n"
     ]
    }
   ],
   "source": [
    "#key with max unique values\n",
    "dc = {'a' : [5, 7, 9, 4, 0], 'b' : [6, 7, 4, 3, 3], 'c' : [9, 9, 6, 5, 5]}\n",
    "max_len, max_val = 0, \"\"\n",
    "for key, val in dc.items():\n",
    "    if len(set(val))>max_len:\n",
    "        max_len = len(set(val))\n",
    "        max_val = key\n",
    "print(max_val)        \n",
    "        \n",
    "        \n",
    "    "
   ]
  },
  {
   "cell_type": "code",
   "execution_count": 47,
   "id": "a7d66c70",
   "metadata": {},
   "outputs": [
    {
     "name": "stdout",
     "output_type": "stream",
     "text": [
      "g e k s "
     ]
    }
   ],
   "source": [
    "#duplicate character in string\n",
    "from collections import Counter\n",
    "st = 'geeksforgeeeks'\n",
    "res = dict(Counter(st))\n",
    "for key, val in res.items():\n",
    "    if val>1:\n",
    "        print(key, end=' ')\n",
    "    \n",
    "    "
   ]
  },
  {
   "cell_type": "code",
   "execution_count": 59,
   "id": "648a62af",
   "metadata": {},
   "outputs": [
    {
     "data": {
      "text/plain": [
       "{2: [2, 2, 2, 2], 5: [5, 5, 5], 7: [7, 7], 6: [6]}"
      ]
     },
     "execution_count": 59,
     "metadata": {},
     "output_type": "execute_result"
    }
   ],
   "source": [
    "#similar items in dictionary\n",
    "from collections import Counter\n",
    "ls = [2, 5, 7, 2, 2, 7, 6, 5, 5 , 2]\n",
    "dc= { key: [key]*val for key, val in Counter(ls).items()}\n",
    "dc\n",
    "    \n",
    "        \n",
    "        \n"
   ]
  },
  {
   "cell_type": "code",
   "execution_count": null,
   "id": "64db0dd1",
   "metadata": {},
   "outputs": [],
   "source": []
  }
 ],
 "metadata": {
  "kernelspec": {
   "display_name": "Python 3 (ipykernel)",
   "language": "python",
   "name": "python3"
  },
  "language_info": {
   "codemirror_mode": {
    "name": "ipython",
    "version": 3
   },
   "file_extension": ".py",
   "mimetype": "text/x-python",
   "name": "python",
   "nbconvert_exporter": "python",
   "pygments_lexer": "ipython3",
   "version": "3.9.12"
  }
 },
 "nbformat": 4,
 "nbformat_minor": 5
}
