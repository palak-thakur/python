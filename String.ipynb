{
 "cells": [
  {
   "cell_type": "code",
   "execution_count": 1,
   "id": "a5f9e8f1",
   "metadata": {},
   "outputs": [
    {
     "data": {
      "text/plain": [
       "'palindrome'"
      ]
     },
     "execution_count": 1,
     "metadata": {},
     "output_type": "execute_result"
    }
   ],
   "source": [
    "#palindrome or symmetric\n",
    "def palindrom(st):\n",
    "    half= len(st)//2\n",
    "    if len(st)%2==0:\n",
    "        first_half= st[:half]\n",
    "        second_half= st[half:]\n",
    "    else:\n",
    "        first_half= st[:half]\n",
    "        second_half=st[half+1:]\n",
    "    '''    \n",
    "    #checking symmetric\n",
    "    if first_half==second_half:\n",
    "        return \"symmetric\"\n",
    "    else:\n",
    "        return \"non symmetric\"\n",
    "    '''\n",
    "    #checking plaindrome\n",
    "    if first_half==second_half[::-1]:\n",
    "        return \"palindrome\"\n",
    "    else:\n",
    "        return \"not a plaindrome\"\n",
    "        \n",
    "palindrom(\"DAD\")    "
   ]
  },
  {
   "cell_type": "code",
   "execution_count": 18,
   "id": "a30103ab",
   "metadata": {},
   "outputs": [
    {
     "data": {
      "text/plain": [
       "'DCBA'"
      ]
     },
     "execution_count": 18,
     "metadata": {},
     "output_type": "execute_result"
    }
   ],
   "source": [
    "#reverse string\n",
    "st=\"ABCD\"\n",
    "st[::-1]"
   ]
  },
  {
   "cell_type": "code",
   "execution_count": 24,
   "id": "ebaaed0d",
   "metadata": {},
   "outputs": [
    {
     "data": {
      "text/plain": [
       "'palak is name my'"
      ]
     },
     "execution_count": 24,
     "metadata": {},
     "output_type": "execute_result"
    }
   ],
   "source": [
    "#reverse words \n",
    "st1= \"my name is palak\"\n",
    "ls=st1.split()\n",
    "rev= \" \".join(reversed(ls))\n",
    "rev"
   ]
  },
  {
   "cell_type": "code",
   "execution_count": 25,
   "id": "f519eee0",
   "metadata": {},
   "outputs": [
    {
     "data": {
      "text/plain": [
       "'plk'"
      ]
     },
     "execution_count": 25,
     "metadata": {},
     "output_type": "execute_result"
    }
   ],
   "source": [
    "#remove a char from string\n",
    "def remove_char(st, ch):\n",
    "    return st.replace(ch,\"\")\n",
    "    # \"\".join(st.split('ch')) , another method\n",
    "remove_char(\"palak\",'a')"
   ]
  },
  {
   "cell_type": "code",
   "execution_count": 28,
   "id": "d4d19f14",
   "metadata": {},
   "outputs": [
    {
     "data": {
      "text/plain": [
       "5"
      ]
     },
     "execution_count": 28,
     "metadata": {},
     "output_type": "execute_result"
    }
   ],
   "source": [
    "# length of string\n",
    "def length(st):\n",
    "    #return len(st) , 1 way\n",
    "    #another way\n",
    "    s=0\n",
    "    for ele in st:\n",
    "        s+=1\n",
    "    return s    \n",
    "length(\"palak\")\n"
   ]
  },
  {
   "cell_type": "code",
   "execution_count": 30,
   "id": "a2952531",
   "metadata": {},
   "outputs": [
    {
     "data": {
      "text/plain": [
       "'jms'"
      ]
     },
     "execution_count": 30,
     "metadata": {},
     "output_type": "execute_result"
    }
   ],
   "source": [
    "#creating string made of 1st, middle and last char\n",
    "def string_create(st):\n",
    "    mid= len(st)//2\n",
    "    new_st= st[0]+st[mid]+st[-1]\n",
    "    return new_st\n",
    "string_create(\"james\")"
   ]
  },
  {
   "cell_type": "code",
   "execution_count": 33,
   "id": "aad7c073",
   "metadata": {},
   "outputs": [
    {
     "data": {
      "text/plain": [
       "'Son'"
      ]
     },
     "execution_count": 33,
     "metadata": {},
     "output_type": "execute_result"
    }
   ],
   "source": [
    "#string made of middle three char\n",
    "def mid_three_char(st):\n",
    "    mid= len(st)//2\n",
    "    new_st= st[mid-1:mid+2]\n",
    "    return new_st\n",
    "mid_three_char(\"JaSonAy\")"
   ]
  },
  {
   "cell_type": "code",
   "execution_count": 36,
   "id": "467e9428",
   "metadata": {},
   "outputs": [
    {
     "data": {
      "text/plain": [
       "'AuKellyt'"
      ]
     },
     "execution_count": 36,
     "metadata": {},
     "output_type": "execute_result"
    }
   ],
   "source": [
    "#append new string in the middle of string\n",
    "def append_string(st, st1):\n",
    "    mid= len(st)//2\n",
    "    new_st= st[:mid]+ st1+ st[mid+1:]\n",
    "    return new_st\n",
    "append_string(\"Ault\",'Kelly')\n"
   ]
  },
  {
   "cell_type": "code",
   "execution_count": 39,
   "id": "270b7c2a",
   "metadata": {},
   "outputs": [
    {
     "data": {
      "text/plain": [
       "'cefhABDG'"
      ]
     },
     "execution_count": 39,
     "metadata": {},
     "output_type": "execute_result"
    }
   ],
   "source": [
    "#Arrange string characters such that lowercase letters should come first\n",
    "def lower_upper(st):\n",
    "    low_st=\"\"\n",
    "    up_st=\"\"\n",
    "    for ele in st:\n",
    "        if ele.islower():\n",
    "            low_st+=ele\n",
    "        else:\n",
    "            up_st+=ele\n",
    "    return low_st+up_st\n",
    "lower_upper(\"ABcDefGh\")"
   ]
  },
  {
   "cell_type": "code",
   "execution_count": 42,
   "id": "feeb2751",
   "metadata": {},
   "outputs": [
    {
     "data": {
      "text/plain": [
       "(8, 3, 4)"
      ]
     },
     "execution_count": 42,
     "metadata": {},
     "output_type": "execute_result"
    }
   ],
   "source": [
    "#Count all letters, digits, and special symbols from a given string\n",
    "def count_st(st):\n",
    "    char, digit, symbol= 0,0,0\n",
    "    for ele in st:\n",
    "        if ele.isdigit():\n",
    "            digit+=1\n",
    "        elif ele.isalpha():\n",
    "            char+=1\n",
    "        else:\n",
    "            symbol+=1\n",
    "    return char, digit, symbol\n",
    "count_st(\"P@#yn26at^&i5ve\")"
   ]
  },
  {
   "cell_type": "code",
   "execution_count": 54,
   "id": "6b780150",
   "metadata": {},
   "outputs": [
    {
     "data": {
      "text/plain": [
       "'AfBeCzyX'"
      ]
     },
     "execution_count": 54,
     "metadata": {},
     "output_type": "execute_result"
    }
   ],
   "source": [
    "#Create a mixed String using 2 strings\n",
    "#1st char or 1st string and last char of 2nd string and so on\n",
    "def mix_st(st, st1):\n",
    "    new_st=\"\"\n",
    "    length= len(st) if len(st)>len(st1) else len(st1)\n",
    "    for i in range(length):\n",
    "        if i<len(st):\n",
    "            new_st+=st[i]\n",
    "        if i<len(st1):\n",
    "            new_st+=st1[-(i+1)]\n",
    "    return new_st\n",
    "mix_st(\"ABC\", \"Xyzef\")       "
   ]
  },
  {
   "cell_type": "code",
   "execution_count": 59,
   "id": "d4e6dfc6",
   "metadata": {},
   "outputs": [
    {
     "data": {
      "text/plain": [
       "'balanced'"
      ]
     },
     "execution_count": 59,
     "metadata": {},
     "output_type": "execute_result"
    }
   ],
   "source": [
    "#String characters balance Test, if all char of st are present in st1\n",
    "def balance_st(st, st1):\n",
    "    check=0\n",
    "    for ele in st:\n",
    "        if ele in st1:\n",
    "            continue\n",
    "        else:\n",
    "            check=1\n",
    "    return \"balanced\" if check==0 else \"not balanced\"\n",
    "balance_st(\"pq\", \"abpstuvqqp\")\n",
    "\n",
    "                "
   ]
  },
  {
   "cell_type": "code",
   "execution_count": 65,
   "id": "7214bee2",
   "metadata": {},
   "outputs": [
    {
     "data": {
      "text/plain": [
       "3"
      ]
     },
     "execution_count": 65,
     "metadata": {},
     "output_type": "execute_result"
    }
   ],
   "source": [
    "#Find all occurrences of a substring in a given string by ignoring the case\n",
    "def string_count(sent, st):\n",
    "    sent= sent.lower()\n",
    "    st= st.lower()\n",
    "    return sent.count(st)\n",
    "string_count(\"hi hello HI Hi\", 'hi')\n",
    "    \n",
    "\n",
    "        "
   ]
  },
  {
   "cell_type": "code",
   "execution_count": 69,
   "id": "ce696e79",
   "metadata": {},
   "outputs": [
    {
     "data": {
      "text/plain": [
       "(38, 6.333333333333333)"
      ]
     },
     "execution_count": 69,
     "metadata": {},
     "output_type": "execute_result"
    }
   ],
   "source": [
    "#Calculate the sum and average of the digits present in a string\n",
    "#method 1\n",
    "def sum_avg(st):\n",
    "    sum1,count=0,0\n",
    "    for ele in st:\n",
    "        if ele.isdigit():\n",
    "            sum1+=int(ele)\n",
    "            count+=1\n",
    "    return sum1, sum1/count\n",
    "sum_avg(\"PYnative29@#8496\")"
   ]
  },
  {
   "cell_type": "code",
   "execution_count": 70,
   "id": "4d245996",
   "metadata": {},
   "outputs": [
    {
     "name": "stdout",
     "output_type": "stream",
     "text": [
      "sum of digits is 38\n",
      "average of digits is 6.333333333333333\n"
     ]
    }
   ],
   "source": [
    "#Calculate the sum and average of the digits present in a string\n",
    "#method 2\n",
    "st=\"PYnative29@#8496\"\n",
    "ls=[int(ele) for ele in st if ele.isdigit()]\n",
    "print(\"sum of digits is\", sum(ls))\n",
    "print(\"average of digits is\", sum(ls)/len(ls))"
   ]
  },
  {
   "cell_type": "code",
   "execution_count": 76,
   "id": "ec2e9c5b",
   "metadata": {},
   "outputs": [
    {
     "name": "stdout",
     "output_type": "stream",
     "text": [
      "{'A': 1, 'p': 2, 'l': 1, 'e': 1}\n"
     ]
    }
   ],
   "source": [
    "#Write a program to count occurrences of all characters within a string\n",
    "st= \"Apple\"\n",
    "dc={}\n",
    "for ele in st:\n",
    "    dc[ele]= st.count(ele)\n",
    "print(dc)    "
   ]
  },
  {
   "cell_type": "code",
   "execution_count": 18,
   "id": "07eae508",
   "metadata": {},
   "outputs": [
    {
     "data": {
      "text/plain": [
       "43"
      ]
     },
     "execution_count": 18,
     "metadata": {},
     "output_type": "execute_result"
    }
   ],
   "source": [
    "#Find the last position of a given substring\n",
    "st=\"Emma is a data scientist who knows Python. Emma works at google.\"\n",
    "st.rfind(\"Emma\")"
   ]
  },
  {
   "cell_type": "code",
   "execution_count": 23,
   "id": "ba25373e",
   "metadata": {},
   "outputs": [
    {
     "name": "stdout",
     "output_type": "stream",
     "text": [
      "Emma\n",
      "is\n",
      "a\n",
      "data\n",
      "scientist\n"
     ]
    }
   ],
   "source": [
    "#Split a string on hyphens\n",
    "str1 = \"Emma-is-a-data-scientist\"\n",
    "sp=str1.split(\"-\")\n",
    "for ele in sp:\n",
    "    print(ele)"
   ]
  },
  {
   "cell_type": "code",
   "execution_count": 26,
   "id": "ef186c7c",
   "metadata": {},
   "outputs": [
    {
     "data": {
      "text/plain": [
       "['abc', 'pqr']"
      ]
     },
     "execution_count": 26,
     "metadata": {},
     "output_type": "execute_result"
    }
   ],
   "source": [
    "#Remove empty strings from a list of strings\n",
    "#method 1\n",
    "def remove_emp(ls):\n",
    "    for ele in ls:\n",
    "        if ele==\"\":\n",
    "            ls.remove(ele)\n",
    "    return ls\n",
    "remove_emp([\"abc\", \"\", \"pqr\",\"\"])"
   ]
  },
  {
   "cell_type": "code",
   "execution_count": 30,
   "id": "9ac5a53c",
   "metadata": {},
   "outputs": [
    {
     "data": {
      "text/plain": [
       "['abc', 'pqr']"
      ]
     },
     "execution_count": 30,
     "metadata": {},
     "output_type": "execute_result"
    }
   ],
   "source": [
    "#method 2\n",
    "ls=[\"abc\", \"\", \"pqr\",\"\"]\n",
    "ls1=list(filter(None,ls))\n",
    "ls1"
   ]
  },
  {
   "cell_type": "code",
   "execution_count": 35,
   "id": "f4811103",
   "metadata": {},
   "outputs": [
    {
     "name": "stdout",
     "output_type": "stream",
     "text": [
      "2510\n",
      "2510\n"
     ]
    }
   ],
   "source": [
    "#RRemoval all characters from a string except integers\n",
    "str1 = 'I am 25 years and 10 months old'\n",
    "str2=\"\"\n",
    "for ele in str1:\n",
    "    if ele.isdigit():\n",
    "        str2+=ele\n",
    "res=\"\".join([ele for ele in str1 if ele.isdigit()])   #another method    \n",
    "print(str2)        \n",
    "print(res)"
   ]
  },
  {
   "cell_type": "code",
   "execution_count": 6,
   "id": "34d090bd",
   "metadata": {},
   "outputs": [
    {
     "name": "stdout",
     "output_type": "stream",
     "text": [
      "['Emma25', 'scientist50']\n"
     ]
    }
   ],
   "source": [
    "#Find words with both alphabets and numbers\n",
    "str1 = \"Emma25 is Data scientist50 and AI Expert\"\n",
    "ls= str1.split()\n",
    "ls1=[]\n",
    "for ele in ls:\n",
    "    if any(char.isalpha() for char in ele) and any(char.isdigit() for char in ele):\n",
    "        ls1.append(ele)\n",
    "print(ls1)        "
   ]
  },
  {
   "cell_type": "code",
   "execution_count": 20,
   "id": "74999f91",
   "metadata": {},
   "outputs": [
    {
     "name": "stdout",
     "output_type": "stream",
     "text": [
      "##Jon is #developer # musician##\n"
     ]
    }
   ],
   "source": [
    "#Replace each special symbol with # in the following string\n",
    "str1 = '/*Jon is @developer & musician!!'\n",
    "ls= str1.split()\n",
    "ls1=[]\n",
    "for ele in ls:\n",
    "    for char in ele:\n",
    "        if char.isalpha()==False:\n",
    "            ele=ele.replace(char,\"#\")\n",
    "    ls1.append(ele)    \n",
    "print(\" \".join(ls1))      "
   ]
  },
  {
   "cell_type": "code",
   "execution_count": 7,
   "id": "3424b4a6",
   "metadata": {},
   "outputs": [
    {
     "data": {
      "text/plain": [
       "13"
      ]
     },
     "execution_count": 7,
     "metadata": {},
     "output_type": "execute_result"
    }
   ],
   "source": [
    "#length of string without spaces\n",
    "st=\"my name is palak\"\n",
    "res= sum(map(len, st.split()))\n",
    "res\n",
    "    "
   ]
  },
  {
   "cell_type": "code",
   "execution_count": 8,
   "id": "f8793d40",
   "metadata": {},
   "outputs": [
    {
     "name": "stdout",
     "output_type": "stream",
     "text": [
      "my\n",
      "name\n",
      "is\n"
     ]
    }
   ],
   "source": [
    "#even length words in a string\n",
    "st= \"my name is palak\"\n",
    "for i in st.split():\n",
    "    if len(i)%2==0:\n",
    "        print(i)"
   ]
  },
  {
   "cell_type": "code",
   "execution_count": 9,
   "id": "aeebac59",
   "metadata": {},
   "outputs": [
    {
     "data": {
      "text/plain": [
       "'pythonISCOOL'"
      ]
     },
     "execution_count": 9,
     "metadata": {},
     "output_type": "execute_result"
    }
   ],
   "source": [
    "#upper case on 2nd half of string\n",
    "st= \"pythoniscool\"\n",
    "st1= st[:len(st)//2]+ st[len(st)//2:].upper()\n",
    "st1\n"
   ]
  },
  {
   "cell_type": "code",
   "execution_count": 13,
   "id": "73772715",
   "metadata": {},
   "outputs": [
    {
     "data": {
      "text/plain": [
       "'MY NamE IS PalaK'"
      ]
     },
     "execution_count": 13,
     "metadata": {},
     "output_type": "execute_result"
    }
   ],
   "source": [
    "#1st and last character to upper\n",
    "st= \"my name is palak\"\n",
    "res= \" \".join(map(lambda st: st[:-1]+ st[-1].upper(),st.title().split()))\n",
    "res\n"
   ]
  },
  {
   "cell_type": "code",
   "execution_count": 19,
   "id": "9af8a9e0",
   "metadata": {},
   "outputs": [
    {
     "name": "stdout",
     "output_type": "stream",
     "text": [
      "True\n"
     ]
    }
   ],
   "source": [
    "#to check if string have atleast 1 letter and 1 number\n",
    "st =\"12a\"\n",
    "check, check1 = False, False\n",
    "for ele in st:\n",
    "    if ele.isdigit():\n",
    "        check = True\n",
    "        continue\n",
    "    if ele.isalpha():\n",
    "        check1 = True\n",
    "if check and check1:\n",
    "    print(True)\n",
    "else:\n",
    "    print(False)\n",
    "    \n",
    "        "
   ]
  },
  {
   "cell_type": "code",
   "execution_count": 26,
   "id": "83b112fe",
   "metadata": {},
   "outputs": [
    {
     "name": "stdout",
     "output_type": "stream",
     "text": [
      "accepted\n"
     ]
    }
   ],
   "source": [
    "#to check if all vowels are present or not\n",
    "st= \"geeksforgeeks\"\n",
    "vowels= \"aeiou\"\n",
    "for ele in st.lower():\n",
    "    if ele in vowels:\n",
    "        dc[ele]=0\n",
    "if len(dc)== len(vowels):\n",
    "    print(\"accepted\")\n",
    "else:\n",
    "    print(\"not accepted\")\n",
    "        "
   ]
  },
  {
   "cell_type": "code",
   "execution_count": 32,
   "id": "0d312c5b",
   "metadata": {},
   "outputs": [
    {
     "name": "stdout",
     "output_type": "stream",
     "text": [
      "3\n"
     ]
    }
   ],
   "source": [
    "#count the number of matching character in string\n",
    "st= \"abcpqr\"\n",
    "st1= \"efbdkper\"\n",
    "count=0\n",
    "for ele in set(st):\n",
    "    if ele in st1:\n",
    "        count+=1\n",
    "print(count)        "
   ]
  },
  {
   "cell_type": "code",
   "execution_count": 40,
   "id": "5d5f35c6",
   "metadata": {},
   "outputs": [
    {
     "data": {
      "text/plain": [
       "'frskgeo'"
      ]
     },
     "execution_count": 40,
     "metadata": {},
     "output_type": "execute_result"
    }
   ],
   "source": [
    "#remove duplicates from string\n",
    "st= \"geeksforgeeks\"\n",
    "\"\".join(set(st))"
   ]
  },
  {
   "cell_type": "code",
   "execution_count": 51,
   "id": "e63a2626",
   "metadata": {},
   "outputs": [
    {
     "data": {
      "text/plain": [
       "'f'"
      ]
     },
     "execution_count": 51,
     "metadata": {},
     "output_type": "execute_result"
    }
   ],
   "source": [
    "#minimum frequency of values\n",
    "st=\"geeksforgeeks\"\n",
    "dc={}\n",
    "for ele in st:\n",
    "    dc[ele]= dc.get(ele,0)+1\n",
    "min(dc, key= dc.get)"
   ]
  },
  {
   "cell_type": "code",
   "execution_count": 63,
   "id": "93f3001d",
   "metadata": {},
   "outputs": [
    {
     "name": "stdout",
     "output_type": "stream",
     "text": [
      "Counter({'e': 4, 'g': 2, 'k': 2, 's': 2, 'f': 1, 'o': 1, 'r': 1})\n"
     ]
    }
   ],
   "source": [
    "#maximum frequency of values, using counter\n",
    "from collections import Counter\n",
    "res= Counter(st)\n",
    "max(res, key= res.get)\n"
   ]
  },
  {
   "cell_type": "code",
   "execution_count": 64,
   "id": "805bd478",
   "metadata": {},
   "outputs": [
    {
     "name": "stdout",
     "output_type": "stream",
     "text": [
      "f\n",
      "o\n",
      "r\n"
     ]
    }
   ],
   "source": [
    "#odd frequency character\n",
    "from collections import Counter\n",
    "st=\"geeksforgeeks\"\n",
    "res= Counter(st)\n",
    "for ele in res.items():\n",
    "    if ele[-1]%2:\n",
    "        print(ele[0])\n"
   ]
  },
  {
   "cell_type": "code",
   "execution_count": 11,
   "id": "745a4055",
   "metadata": {},
   "outputs": [
    {
     "data": {
      "text/plain": [
       "4"
      ]
     },
     "execution_count": 11,
     "metadata": {},
     "output_type": "execute_result"
    }
   ],
   "source": [
    "#specific word frequency\n",
    "def frequency(st, s):\n",
    "    dc={}\n",
    "    for ele in st:\n",
    "        dc[ele]= dc.get(ele,0)+1\n",
    "    return dc[s]\n",
    "\n",
    "st= \"geeksforgeeks\"\n",
    "\n",
    "frequency(st, 'e')\n",
    "    "
   ]
  },
  {
   "cell_type": "code",
   "execution_count": 12,
   "id": "d45086cb",
   "metadata": {},
   "outputs": [
    {
     "name": "stdout",
     "output_type": "stream",
     "text": [
      "3\n"
     ]
    }
   ],
   "source": [
    "#number of numerics in string\n",
    "st = \"geeks4feeks is No. 1 4 geeks\"\n",
    "count = 0\n",
    "for ele in st:\n",
    "    if ele.isdigit():\n",
    "        count+=1\n",
    "print(count)        "
   ]
  },
  {
   "cell_type": "code",
   "execution_count": 15,
   "id": "c66d972e",
   "metadata": {},
   "outputs": [
    {
     "name": "stdout",
     "output_type": "stream",
     "text": [
      "string not accepted\n"
     ]
    }
   ],
   "source": [
    "#special character in string\n",
    "st = \"abc@#$ahd&\"\n",
    "for ele in st:\n",
    "    if ele.isdigit()==False and ele.isalpha()== False:\n",
    "        print(\"string not accepted\")\n",
    "        break\n",
    "\n",
    "    \n",
    "        "
   ]
  },
  {
   "cell_type": "code",
   "execution_count": 22,
   "id": "8a2c0bbe",
   "metadata": {},
   "outputs": [
    {
     "name": "stdout",
     "output_type": "stream",
     "text": [
      "hello geeks geeks computer science portal "
     ]
    }
   ],
   "source": [
    "#words greater than a given length\n",
    "st = \"hello geeks for geeks is computer science portal\" \n",
    "k = 4    \n",
    "for ele in st.split():\n",
    "    if len(ele)>k:\n",
    "        print(ele, end=\" \")"
   ]
  },
  {
   "cell_type": "code",
   "execution_count": 25,
   "id": "059f4bbf",
   "metadata": {},
   "outputs": [
    {
     "data": {
      "text/plain": [
       "'ttan'"
      ]
     },
     "execution_count": 25,
     "metadata": {},
     "output_type": "execute_result"
    }
   ],
   "source": [
    "#remove ith character from string\n",
    "st= \"titan\"\n",
    "k=2\n",
    "st= st[:k-1] + st[k:]\n",
    "#st.replace(st[k-1],\"\")  , another way\n",
    "st"
   ]
  },
  {
   "cell_type": "code",
   "execution_count": 28,
   "id": "c044c746",
   "metadata": {},
   "outputs": [
    {
     "name": "stdout",
     "output_type": "stream",
     "text": [
      "['Geeks', 'for', 'Geeks']\n",
      "Geeks-for-Geeks\n"
     ]
    }
   ],
   "source": [
    "#spliting string and then join it with \"-\"\n",
    "st= \"Geeks for Geeks\"\n",
    "print(st.split())\n",
    "print(\"-\".join(st.split()))"
   ]
  },
  {
   "cell_type": "code",
   "execution_count": 38,
   "id": "b3af4316",
   "metadata": {},
   "outputs": [
    {
     "name": "stdout",
     "output_type": "stream",
     "text": [
      "not a binary string\n"
     ]
    }
   ],
   "source": [
    "#binary string\n",
    "st='010010mmm101011'\n",
    "for ele in st:\n",
    "    if ele not in '01':\n",
    "        print('not a binary string')\n",
    "        break\n",
    "else:\n",
    "    print(\"binary\")"
   ]
  },
  {
   "cell_type": "code",
   "execution_count": 42,
   "id": "e657aadd",
   "metadata": {},
   "outputs": [
    {
     "data": {
      "text/plain": [
       "'14. 625. 498,002'"
      ]
     },
     "execution_count": 42,
     "metadata": {},
     "output_type": "execute_result"
    }
   ],
   "source": [
    "#swap commas and dots\n",
    "st = \"14, 625, 498.002\"\n",
    "st = st.replace(\",\", \"@\")\n",
    "st = st.replace(\".\", \",\")\n",
    "st=st.replace(\"@\", \".\")\n",
    "st\n"
   ]
  },
  {
   "cell_type": "code",
   "execution_count": 49,
   "id": "a02bda87",
   "metadata": {},
   "outputs": [
    {
     "name": "stdout",
     "output_type": "stream",
     "text": [
      "ABC\n",
      "ACB\n",
      "BAC\n",
      "BCA\n",
      "CAB\n",
      "CBA\n"
     ]
    }
   ],
   "source": [
    "#permutation of a string\n",
    "from itertools import permutations\n",
    "st = \"ABC\"\n",
    "ls = list(permutations(st))\n",
    "for ele in ls:\n",
    "    print(\"\".join(ele))"
   ]
  },
  {
   "cell_type": "code",
   "execution_count": 53,
   "id": "adafd41a",
   "metadata": {},
   "outputs": [
    {
     "name": "stdout",
     "output_type": "stream",
     "text": [
      "https://geeksforgeeks.org\n"
     ]
    }
   ],
   "source": [
    "#search url in string\n",
    "string = 'I am a blogger at https://geeksforgeeks.org'\n",
    "for ele in string.split():\n",
    "    if ele.startswith(\"https\"):\n",
    "        print(ele)"
   ]
  },
  {
   "cell_type": "code",
   "execution_count": 61,
   "id": "853e94ff",
   "metadata": {},
   "outputs": [
    {
     "data": {
      "text/plain": [
       "'32619'"
      ]
     },
     "execution_count": 61,
     "metadata": {},
     "output_type": "execute_result"
    }
   ],
   "source": [
    "#Convert numeric words to numbers\n",
    "dc = {\n",
    "    'one': '1',\n",
    "    'two': '2',\n",
    "    'three': '3',\n",
    "    'four': '4',\n",
    "    'five': '5',\n",
    "    'six': '6',\n",
    "    'seven': '7',\n",
    "    'eight': '8',\n",
    "    'nine': '9',\n",
    "    'zero' : '0'\n",
    "}\n",
    "st= 'three two six one nine'\n",
    "st1=\"\"\n",
    "for ele in st.split():\n",
    "    st1+=dc[ele]\n",
    "st1\n",
    "# \"\".join(dc[ele] for ele in st.split()) , another method"
   ]
  },
  {
   "cell_type": "code",
   "execution_count": 68,
   "id": "0a1d1d6c",
   "metadata": {},
   "outputs": [
    {
     "name": "stdout",
     "output_type": "stream",
     "text": [
      "3\n"
     ]
    }
   ],
   "source": [
    "#word location\n",
    "st= \"geeksforgeeks is best for geeks\"\n",
    "find= 'best'\n",
    "ls= st.split()\n",
    "for ele in ls:\n",
    "    if ele== find:\n",
    "        print(ls.index(ele)+1)\n",
    "        break\n",
    "        "
   ]
  },
  {
   "cell_type": "code",
   "execution_count": 95,
   "id": "419babc7",
   "metadata": {},
   "outputs": [
    {
     "name": "stdout",
     "output_type": "stream",
     "text": [
      "eksforGeeksGe\n",
      "ksGeeksforGee\n"
     ]
    }
   ],
   "source": [
    "# rotate a string\n",
    "s = \"GeeksforGeeks\"\n",
    "d = 2\n",
    "#rotate left\n",
    "print(s[d:] + s[:d])\n",
    "#rotate right\n",
    "print(s[-d:] + s[:-d])\n",
    "    "
   ]
  },
  {
   "cell_type": "code",
   "execution_count": 118,
   "id": "004f0109",
   "metadata": {},
   "outputs": [
    {
     "name": "stdout",
     "output_type": "stream",
     "text": [
      "empty\n"
     ]
    }
   ],
   "source": [
    "#String slicing in Python to check if a string can become empty by recursive deletion\n",
    "def remove(st, substr):\n",
    "    while st:\n",
    "        idx= st.index(sub_str)\n",
    "        st= st[:idx]+ st[idx+ len(sub_str):]\n",
    "    if st:\n",
    "        print(\"not empty\")\n",
    "    else:\n",
    "        print(\"empty\")\n",
    "st = \"GEEGEEKSKS\"\n",
    "sub_str = \"GEEKS\"\n",
    "remove(st, sub_str)\n"
   ]
  },
  {
   "cell_type": "code",
   "execution_count": 17,
   "id": "3a8dd084",
   "metadata": {},
   "outputs": [
    {
     "data": {
      "text/plain": [
       "'I\\'m a \"Geek\"'"
      ]
     },
     "execution_count": 17,
     "metadata": {},
     "output_type": "execute_result"
    }
   ],
   "source": [
    "# escape sequence\n",
    "A = '''I'm a \"Geek\"'''\n",
    "A"
   ]
  },
  {
   "cell_type": "code",
   "execution_count": 32,
   "id": "631c050b",
   "metadata": {},
   "outputs": [
    {
     "name": "stdout",
     "output_type": "stream",
     "text": [
      "My name is Palak. I like Coding.\n",
      "My name is Palak. I like Coding.\n",
      "My name is Palak. I like Coding.\n"
     ]
    }
   ],
   "source": [
    "#formatted string\n",
    "A ='My name is {n}. I like {c}.'.format(n = 'Palak', c = 'Coding')\n",
    "B = 'My name is {}. I like {}.'.format('Palak', 'Coding')\n",
    "C = 'My name is {1}. I like {0}.'.format('Coding', 'Palak')\n",
    "print(A, B, C, sep = \"\\n\")"
   ]
  },
  {
   "cell_type": "code",
   "execution_count": 29,
   "id": "b7a67065",
   "metadata": {},
   "outputs": [
    {
     "name": "stdout",
     "output_type": "stream",
     "text": [
      "My name is Palak. I like Coding.\n"
     ]
    }
   ],
   "source": [
    "#formated string\n",
    "n = 'Palak'\n",
    "c = 'Coding'\n",
    "print(f'My name is {n}. I like {c}.')"
   ]
  },
  {
   "cell_type": "code",
   "execution_count": null,
   "id": "ac874791",
   "metadata": {},
   "outputs": [],
   "source": []
  }
 ],
 "metadata": {
  "kernelspec": {
   "display_name": "Python 3 (ipykernel)",
   "language": "python",
   "name": "python3"
  },
  "language_info": {
   "codemirror_mode": {
    "name": "ipython",
    "version": 3
   },
   "file_extension": ".py",
   "mimetype": "text/x-python",
   "name": "python",
   "nbconvert_exporter": "python",
   "pygments_lexer": "ipython3",
   "version": "3.9.12"
  }
 },
 "nbformat": 4,
 "nbformat_minor": 5
}
