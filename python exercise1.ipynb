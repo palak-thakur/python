{
 "cells": [
  {
   "cell_type": "code",
   "execution_count": null,
   "id": "27f2a34c",
   "metadata": {},
   "outputs": [],
   "source": [
    "#perfect number\n",
    "def perfect(x):\n",
    "    sum,i= 1,2\n",
    "    while i*i<=x:\n",
    "        if x%i==0:\n",
    "            sum= sum+ i + x/i\n",
    "    return \"perfect number\" if sum==x else \"not a perfect\"\n",
    "\n",
    "perfect(15)\n",
    "            \n"
   ]
  },
  {
   "cell_type": "code",
   "execution_count": 7,
   "id": "78065768",
   "metadata": {},
   "outputs": [
    {
     "data": {
      "text/plain": [
       "'not a prime number'"
      ]
     },
     "execution_count": 7,
     "metadata": {},
     "output_type": "execute_result"
    }
   ],
   "source": [
    "#prime\n",
    "def prime(num):\n",
    "    if num==0 or num==1:\n",
    "        return \"not a prime number\"\n",
    "    n= int(num**0.5)+1\n",
    "    for i in range(2,n):\n",
    "        if num%i==0:\n",
    "            return \"not a prime number\"\n",
    "    else:\n",
    "        return \"prime number\"\n",
    "    \n",
    "prime(4)    \n",
    "        "
   ]
  },
  {
   "cell_type": "code",
   "execution_count": 5,
   "id": "9a3280ad",
   "metadata": {},
   "outputs": [
    {
     "name": "stdout",
     "output_type": "stream",
     "text": [
      "2\n",
      "3\n",
      "5\n",
      "7\n"
     ]
    }
   ],
   "source": [
    "#print prime number in a range\n",
    "def prime_r(x):\n",
    "    if x==0 or x==1:\n",
    "        return False\n",
    "    for i in range(2, x//2+1):\n",
    "        if x%i==0:\n",
    "            return False\n",
    "    else:\n",
    "        return True\n",
    "    \n",
    "for ele in range(10):\n",
    "    if prime_r(ele):\n",
    "        print(ele)"
   ]
  },
  {
   "cell_type": "code",
   "execution_count": 3,
   "id": "50e48e43",
   "metadata": {},
   "outputs": [
    {
     "data": {
      "text/plain": [
       "[0, 1, 1, 2, 3, 5, 8, 13, 21, 34, 55]"
      ]
     },
     "execution_count": 3,
     "metadata": {},
     "output_type": "execute_result"
    }
   ],
   "source": [
    "#fibonacci series\n",
    "def fibonacci(x):\n",
    "    ls=[0,1]\n",
    "    if x==0 or x==1:\n",
    "        return x\n",
    "    a,b=0,1\n",
    "    for i in range(x):\n",
    "        c=a+b\n",
    "        a=b\n",
    "        b=c\n",
    "        ls.append(b)\n",
    "    return ls    \n",
    "\n",
    "fibonacci(9)"
   ]
  },
  {
   "cell_type": "code",
   "execution_count": 4,
   "id": "5a8b1220",
   "metadata": {},
   "outputs": [
    {
     "data": {
      "text/plain": [
       "55"
      ]
     },
     "execution_count": 4,
     "metadata": {},
     "output_type": "execute_result"
    }
   ],
   "source": [
    "#last element of fibbonaci\n",
    "def fibonacci(x):\n",
    "    ls=[0,1]\n",
    "    if x==0 or x==1:\n",
    "        return x\n",
    "    a,b=0,1\n",
    "    for i in range(x):\n",
    "        c=a+b\n",
    "        a=b\n",
    "        b=c\n",
    "    return b\n",
    "fibonacci(9)"
   ]
  },
  {
   "cell_type": "code",
   "execution_count": 3,
   "id": "eea4ca0d",
   "metadata": {},
   "outputs": [
    {
     "data": {
      "text/plain": [
       "34"
      ]
     },
     "execution_count": 3,
     "metadata": {},
     "output_type": "execute_result"
    }
   ],
   "source": [
    "#fibonacci with recursion\n",
    "def fibonacci(x):\n",
    "    if x==0 or x==1:\n",
    "        return x\n",
    "    else:\n",
    "        return fibonacci(x-1) +fibonacci(x-2)\n",
    "fibonacci(9)    "
   ]
  },
  {
   "cell_type": "code",
   "execution_count": 6,
   "id": "032579bd",
   "metadata": {},
   "outputs": [
    {
     "data": {
      "text/plain": [
       "5432"
      ]
     },
     "execution_count": 6,
     "metadata": {},
     "output_type": "execute_result"
    }
   ],
   "source": [
    "#program to reverse an integer\n",
    "def rev_num(num):\n",
    "    rem,rev= 0,0\n",
    "    while num:\n",
    "        num,rem= divmod(num,10)\n",
    "        rev= rev*10+rem\n",
    "    return rev\n",
    "rev_num(2345)\n",
    "        "
   ]
  },
  {
   "cell_type": "code",
   "execution_count": 19,
   "id": "910086f2",
   "metadata": {},
   "outputs": [
    {
     "name": "stdout",
     "output_type": "stream",
     "text": [
      "enter the number1\n",
      "1 is an armstrong number\n"
     ]
    }
   ],
   "source": [
    "#armstrong number\n",
    "#number which is equal to sum of digits to the power of number of digits\n",
    "def armstrong(num):\n",
    "    n, sum, rem, i= num, 0, 0, 0\n",
    "    while num:\n",
    "        num=num//10\n",
    "        i+=1\n",
    "    while n:\n",
    "        n,rem=divmod(n,10)\n",
    "        sum+= pow(rem,i)  #rem**i\n",
    "    return sum\n",
    "num= int(input(\"enter the number\"))\n",
    "if num==armstrong(num):\n",
    "    print(f\"{num} is an armstrong number\")\n",
    "else:\n",
    "    print(f\"{num} is not an armstrong number\")\n",
    "        "
   ]
  },
  {
   "cell_type": "code",
   "execution_count": 12,
   "id": "737b93da",
   "metadata": {},
   "outputs": [
    {
     "name": "stdout",
     "output_type": "stream",
     "text": [
      "0\n",
      "1\n",
      "1\n",
      "2\n",
      "3\n",
      "5\n",
      "8\n",
      "13\n",
      "21\n",
      "34\n"
     ]
    }
   ],
   "source": [
    "#fibonacci another methof\n",
    "def fibonacci(num):\n",
    "    a,b=0,1\n",
    "    for i in range(num):\n",
    "        if i<=1:\n",
    "            c=i\n",
    "        else:    \n",
    "            c=a+b\n",
    "            a=b\n",
    "            b=c\n",
    "        print(c)    \n",
    "            \n",
    "fibonacci(10)            "
   ]
  },
  {
   "cell_type": "code",
   "execution_count": 15,
   "id": "620d81a3",
   "metadata": {},
   "outputs": [
    {
     "data": {
      "text/plain": [
       "'palindrom number'"
      ]
     },
     "execution_count": 15,
     "metadata": {},
     "output_type": "execute_result"
    }
   ],
   "source": [
    "#plindrome number\n",
    "def palindrom(num):\n",
    "    n, rev= num, 0\n",
    "    while n:\n",
    "        n,rem= divmod(n,10)\n",
    "        rev= rev*10 +rem\n",
    "    if rev==num:\n",
    "        return \"palindrom number\"\n",
    "    return \"not a palindrom\"\n",
    "palindrom(2332)"
   ]
  },
  {
   "cell_type": "code",
   "execution_count": 3,
   "id": "f9cca6eb",
   "metadata": {},
   "outputs": [
    {
     "name": "stdout",
     "output_type": "stream",
     "text": [
      "1\n",
      "3\n",
      "2\n",
      "3\n"
     ]
    }
   ],
   "source": [
    "#greatest of three numbers\n",
    "x= int(input())\n",
    "y= int(input())\n",
    "z= int(input())\n",
    "if x>y and x>z:\n",
    "    print(x)\n",
    "elif y>z:\n",
    "    print(y)\n",
    "else:\n",
    "    print(z)\n",
    "    "
   ]
  },
  {
   "cell_type": "code",
   "execution_count": 11,
   "id": "73e55b56",
   "metadata": {},
   "outputs": [
    {
     "name": "stdout",
     "output_type": "stream",
     "text": [
      "binary\n"
     ]
    }
   ],
   "source": [
    "#to check if number is binary\n",
    "#only made with 0's and 1's\n",
    "num=10101\n",
    "st= str(num)\n",
    "for ele in st:\n",
    "    if ele not in \"01\":\n",
    "        print(\"not a binary\")\n",
    "        break\n",
    "else:\n",
    "    print(\"binary\")   \n",
    "    \n",
    "\n"
   ]
  },
  {
   "cell_type": "code",
   "execution_count": 13,
   "id": "606af166",
   "metadata": {},
   "outputs": [
    {
     "name": "stdout",
     "output_type": "stream",
     "text": [
      "not a binary\n"
     ]
    }
   ],
   "source": [
    "#to check if number is binary\n",
    "#only made with 0's and 1's\n",
    "num=1010\n",
    "flag=0\n",
    "while num:\n",
    "    num,rem= divmod(num,10)\n",
    "    if rem==0 or rem==1:\n",
    "        flag=0\n",
    "    else:\n",
    "        flag=1\n",
    "        break\n",
    "if flag==1:\n",
    "    print(\"not a binary\")\n",
    "else:\n",
    "    print(\"binary\")\n",
    "        "
   ]
  },
  {
   "cell_type": "code",
   "execution_count": 4,
   "id": "dd5ad082",
   "metadata": {},
   "outputs": [
    {
     "name": "stdout",
     "output_type": "stream",
     "text": [
      "Enter value of a: 5\n",
      "Enter value of b: 7\n",
      "value of a is:  7\n",
      "value of b is:  5\n"
     ]
    }
   ],
   "source": [
    "#Swap two variables without using the third variable in Python\n",
    "a = int(input(\"Enter value of a: \"))\n",
    "b = int(input(\"Enter value of b: \"))\n",
    "b , a = a, b\n",
    "print(\"value of a is: \", a)\n",
    "print(\"value of b is: \", b)"
   ]
  },
  {
   "cell_type": "code",
   "execution_count": 3,
   "id": "85fa6f95",
   "metadata": {},
   "outputs": [
    {
     "name": "stdout",
     "output_type": "stream",
     "text": [
      "Enter value of a: 5\n",
      "Enter value of b: 9\n",
      "value of a is:  9\n",
      "value of b is:  5\n"
     ]
    }
   ],
   "source": [
    "#swapping two number another method\n",
    "a = int(input(\"Enter value of a: \"))\n",
    "b = int(input(\"Enter value of b: \"))\n",
    "a = a - b\n",
    "b = b + a\n",
    "a = b - a\n",
    "print(\"value of a is: \", a)\n",
    "print(\"value of b is: \", b)"
   ]
  },
  {
   "cell_type": "code",
   "execution_count": 6,
   "id": "34c4656f",
   "metadata": {},
   "outputs": [
    {
     "name": "stdout",
     "output_type": "stream",
     "text": [
      "Enter value of a: 6\n",
      "Enter value of b: 8\n",
      "value of a is:  8\n",
      "value of b is:  6\n"
     ]
    }
   ],
   "source": [
    "# swap two numbers using 3rd variable\n",
    "a = int(input(\"Enter value of a: \"))\n",
    "b = int(input(\"Enter value of b: \"))\n",
    "c = b\n",
    "b = a\n",
    "a = c\n",
    "print(\"value of a is: \", a)\n",
    "print(\"value of b is: \", b)"
   ]
  },
  {
   "cell_type": "code",
   "execution_count": 4,
   "id": "775a096a",
   "metadata": {},
   "outputs": [
    {
     "data": {
      "text/plain": [
       "17"
      ]
     },
     "execution_count": 4,
     "metadata": {},
     "output_type": "execute_result"
    }
   ],
   "source": [
    "x , y = 8 , 9\n",
    "while y:\n",
    "    temp = x&y\n",
    "    x= x^y    #exclusive or\n",
    "    y = temp<<1   #left shift\n",
    "x    \n"
   ]
  },
  {
   "cell_type": "code",
   "execution_count": 3,
   "id": "51154352",
   "metadata": {},
   "outputs": [
    {
     "data": {
      "text/plain": [
       "5.0"
      ]
     },
     "execution_count": 3,
     "metadata": {},
     "output_type": "execute_result"
    }
   ],
   "source": [
    "#average of a number\n",
    "ls = [1, 2, 3, 4, 5, 6, 7, 8, 9]\n",
    "avg = sum(ls)/len(ls)\n",
    "avg"
   ]
  },
  {
   "cell_type": "code",
   "execution_count": 5,
   "id": "71561cbf",
   "metadata": {},
   "outputs": [
    {
     "data": {
      "text/plain": [
       "120"
      ]
     },
     "execution_count": 5,
     "metadata": {},
     "output_type": "execute_result"
    }
   ],
   "source": [
    "#factorial of a number\n",
    "#recursion\n",
    "def factorial(num):\n",
    "    if num == 0 or num == 1:\n",
    "        return 1\n",
    "    else:\n",
    "        return num*factorial(num-1)\n",
    "factorial(5)"
   ]
  },
  {
   "cell_type": "code",
   "execution_count": 10,
   "id": "d66449a3",
   "metadata": {},
   "outputs": [
    {
     "data": {
      "text/plain": [
       "1"
      ]
     },
     "execution_count": 10,
     "metadata": {},
     "output_type": "execute_result"
    }
   ],
   "source": [
    "#factrorial of a number\n",
    "#iterative\n",
    "def factorial(num):\n",
    "    fact = 1\n",
    "    if num == 0 or num ==1:\n",
    "        return 1\n",
    "    else:\n",
    "        while num:\n",
    "            fact *= num \n",
    "            num -= 1\n",
    "    return fact        \n",
    "factorial(1)            "
   ]
  },
  {
   "cell_type": "code",
   "execution_count": 15,
   "id": "762549ec",
   "metadata": {},
   "outputs": [
    {
     "name": "stdout",
     "output_type": "stream",
     "text": [
      "Enter number1\n"
     ]
    },
    {
     "data": {
      "text/plain": [
       "'Odd'"
      ]
     },
     "execution_count": 15,
     "metadata": {},
     "output_type": "execute_result"
    }
   ],
   "source": [
    "# to check a given number is even or odd\n",
    "def even_odd(num):\n",
    "    if num%2:\n",
    "        return \"Odd\"\n",
    "    else:\n",
    "        return \"Even\"\n",
    "num = int(input(\"Enter number\"))\n",
    "even_odd(num)\n",
    "    "
   ]
  },
  {
   "cell_type": "code",
   "execution_count": null,
   "id": "47df6b2e",
   "metadata": {},
   "outputs": [],
   "source": [
    "def prime(num):\n",
    "    if num == 0 or num == 1:\n",
    "        return False\n",
    "    for i in range(2, num):\n",
    "        if num%i == 0:\n",
    "            return False\n",
    "    else:\n",
    "        return True\n",
    "    \n",
    "rng = int(input(\"enter the range\"))\n",
    "for i in range(2, rng+1):\n",
    "    if prime(i):\n",
    "        print(i)\n",
    "  \n",
    "  \n",
    "        \n",
    "        "
   ]
  },
  {
   "cell_type": "code",
   "execution_count": 4,
   "id": "c44f9d03",
   "metadata": {},
   "outputs": [
    {
     "name": "stdout",
     "output_type": "stream",
     "text": [
      "enter number 1: 5\n",
      "enter number 2: 7\n",
      "enter number 3: 8\n",
      "8\n"
     ]
    }
   ],
   "source": [
    "#smallest of 3\n",
    "x = int(input(\"enter number 1: \"))\n",
    "y = int(input(\"enter number 2: \"))\n",
    "z = int(input(\"enter number 3: \"))\n",
    "if x>y and x>z:\n",
    "    print(x)\n",
    "elif y>z:\n",
    "    print(y)\n",
    "else:\n",
    "    print(z)"
   ]
  },
  {
   "cell_type": "code",
   "execution_count": 6,
   "id": "02f981e8",
   "metadata": {},
   "outputs": [
    {
     "name": "stdout",
     "output_type": "stream",
     "text": [
      "enter base: 5\n",
      "enter power: 3\n",
      "125\n"
     ]
    }
   ],
   "source": [
    "#pow\n",
    "base = int(input(\"enter base: \"))\n",
    "power = int(input(\"enter power: \"))\n",
    "print(pow(base, power))"
   ]
  },
  {
   "cell_type": "code",
   "execution_count": 12,
   "id": "00d816fb",
   "metadata": {},
   "outputs": [
    {
     "name": "stdout",
     "output_type": "stream",
     "text": [
      "enter base: 5\n",
      "enter power: 3\n",
      "625\n"
     ]
    }
   ],
   "source": [
    "#power\n",
    "base = int(input(\"enter base: \"))\n",
    "power = int(input(\"enter power: \"))\n",
    "for i in range(1, power):\n",
    "    base *= base\n",
    "print(base)    \n",
    "    "
   ]
  },
  {
   "cell_type": "code",
   "execution_count": 16,
   "id": "384ca959",
   "metadata": {},
   "outputs": [
    {
     "name": "stdout",
     "output_type": "stream",
     "text": [
      "enter base: 5\n",
      "enter power: 3\n",
      "125\n"
     ]
    }
   ],
   "source": [
    "#power\n",
    "#for loop\n",
    "base = int(input(\"enter base: \"))\n",
    "power = int(input(\"enter power: \"))\n",
    "res = 1\n",
    "for i in range(power):\n",
    "    res *= base\n",
    "print(res) "
   ]
  },
  {
   "cell_type": "code",
   "execution_count": 21,
   "id": "ef7345f8",
   "metadata": {},
   "outputs": [
    {
     "name": "stdout",
     "output_type": "stream",
     "text": [
      "enter base: 5\n",
      "enter power: 3\n",
      "125\n"
     ]
    }
   ],
   "source": [
    "#power\n",
    "#while loop\n",
    "base = int(input(\"enter base: \"))\n",
    "power = int(input(\"enter power: \"))\n",
    "res = 1\n",
    "while power:\n",
    "    res *= base\n",
    "    power -= 1\n",
    "print(res)    \n",
    "    "
   ]
  },
  {
   "cell_type": "code",
   "execution_count": 26,
   "id": "b1fe1667",
   "metadata": {},
   "outputs": [
    {
     "name": "stdout",
     "output_type": "stream",
     "text": [
      "enter number 1: 5\n",
      "enter number 2: 7\n"
     ]
    },
    {
     "data": {
      "text/plain": [
       "35"
      ]
     },
     "execution_count": 26,
     "metadata": {},
     "output_type": "execute_result"
    }
   ],
   "source": [
    "#LCM\n",
    "def lcm(x, y):\n",
    "    max_num = max(x, y)\n",
    "    while True:\n",
    "        if max_num%x == 0 and max_num%y == 0:\n",
    "            return max_num\n",
    "        max_num += 1\n",
    "    \n",
    "x = int(input(\"enter number 1: \"))\n",
    "y = int(input(\"enter number 2: \"))\n",
    "lcm(x,y)\n"
   ]
  },
  {
   "cell_type": "code",
   "execution_count": 30,
   "id": "2f406af2",
   "metadata": {},
   "outputs": [
    {
     "name": "stdout",
     "output_type": "stream",
     "text": [
      "enter number 1: 15\n",
      "enter number 2: 6\n"
     ]
    },
    {
     "data": {
      "text/plain": [
       "3"
      ]
     },
     "execution_count": 30,
     "metadata": {},
     "output_type": "execute_result"
    }
   ],
   "source": [
    "#hcf or gcd\n",
    "def hcf(x, y):\n",
    "    min_num = min(x,y)\n",
    "    while True:\n",
    "        if x%min_num == 0 and y%min_num == 0:\n",
    "            return min_num\n",
    "        min_num -= 1\n",
    "    else:\n",
    "        return \"1\"\n",
    "x = int(input(\"enter number 1: \"))\n",
    "y = int(input(\"enter number 2: \"))\n",
    "hcf(x,y)     "
   ]
  },
  {
   "cell_type": "code",
   "execution_count": 9,
   "id": "17bbe36b",
   "metadata": {},
   "outputs": [
    {
     "data": {
      "text/plain": [
       "2"
      ]
     },
     "execution_count": 9,
     "metadata": {},
     "output_type": "execute_result"
    }
   ],
   "source": [
    "#hcf \n",
    "#recursive\n",
    "def hcf(x,y):\n",
    "    if y == 0:\n",
    "        return x\n",
    "    return hcf(y, x%y)\n",
    "    \n",
    "hcf(4,6)    "
   ]
  },
  {
   "cell_type": "code",
   "execution_count": 17,
   "id": "9da47639",
   "metadata": {},
   "outputs": [
    {
     "name": "stdout",
     "output_type": "stream",
     "text": [
      "101"
     ]
    }
   ],
   "source": [
    "#converting binary to decimal\n",
    "def dec_bin(num):\n",
    "   \n",
    "    if num>=1:\n",
    "        dec_bin(num//2)\n",
    "        print(num%2, end=\"\")    \n",
    "    \n",
    "dec_bin(5)       "
   ]
  },
  {
   "cell_type": "code",
   "execution_count": 26,
   "id": "3ab489ce",
   "metadata": {},
   "outputs": [
    {
     "data": {
      "text/plain": [
       "'leap year'"
      ]
     },
     "execution_count": 26,
     "metadata": {},
     "output_type": "execute_result"
    }
   ],
   "source": [
    "#leap year\n",
    "def leap(year):\n",
    "    if year%400 == 0:\n",
    "        return \"leap year\"\n",
    "    elif year%100 == 0:\n",
    "        return \"not a leap year\"\n",
    "    elif year%4 == 0:\n",
    "        return \"leap year\"\n",
    "    else:\n",
    "        return \"leap year\"\n",
    "leap(2012)    "
   ]
  },
  {
   "cell_type": "code",
   "execution_count": null,
   "id": "88d7d485",
   "metadata": {},
   "outputs": [],
   "source": []
  }
 ],
 "metadata": {
  "kernelspec": {
   "display_name": "Python 3 (ipykernel)",
   "language": "python",
   "name": "python3"
  },
  "language_info": {
   "codemirror_mode": {
    "name": "ipython",
    "version": 3
   },
   "file_extension": ".py",
   "mimetype": "text/x-python",
   "name": "python",
   "nbconvert_exporter": "python",
   "pygments_lexer": "ipython3",
   "version": "3.9.12"
  }
 },
 "nbformat": 4,
 "nbformat_minor": 5
}
