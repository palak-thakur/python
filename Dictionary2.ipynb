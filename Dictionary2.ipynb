{
 "cells": [
  {
   "cell_type": "code",
   "execution_count": 4,
   "id": "c4e96025",
   "metadata": {},
   "outputs": [
    {
     "data": {
      "text/plain": [
       "{'Ten': 10, 'Twenty': 20, 'Thirty': 30}"
      ]
     },
     "execution_count": 4,
     "metadata": {},
     "output_type": "execute_result"
    }
   ],
   "source": [
    "#Convert two lists into a dictionary\n",
    "keys = ['Ten', 'Twenty', 'Thirty']\n",
    "values = [10, 20, 30]\n",
    "dc= dict(zip(keys,values))\n",
    "dc"
   ]
  },
  {
   "cell_type": "code",
   "execution_count": 7,
   "id": "664b8e64",
   "metadata": {},
   "outputs": [
    {
     "name": "stdout",
     "output_type": "stream",
     "text": [
      "{'Ten': 10, 'Twenty': 20, 'Thirty': 30, 'Fourty': 40, 'Fifty': 50}\n",
      "{'Ten': 10, 'Twenty': 20, 'Thirty': 30, 'Fourty': 40, 'Fifty': 50}\n"
     ]
    }
   ],
   "source": [
    "#Merge two Python dictionaries into one\n",
    "dict1 = {'Ten': 10, 'Twenty': 20, 'Thirty': 30}\n",
    "dict2 = {'Thirty': 30, 'Fourty': 40, 'Fifty': 50}\n",
    "dict1.update(dict2)\n",
    "print(dict1)\n",
    "dict3={**dict1, **dict2} #another method\n",
    "print(dict3)\n",
    "         "
   ]
  },
  {
   "cell_type": "code",
   "execution_count": 16,
   "id": "49d56c93",
   "metadata": {},
   "outputs": [
    {
     "data": {
      "text/plain": [
       "80"
      ]
     },
     "execution_count": 16,
     "metadata": {},
     "output_type": "execute_result"
    }
   ],
   "source": [
    "#Print the value of key ‘history’ from the below dict\n",
    "sampleDict = {\n",
    "    \"class\": {\n",
    "        \"student\": {\n",
    "            \"name\": \"Mike\",\n",
    "            \"marks\": {\n",
    "                \"physics\": 70,\n",
    "                \"history\": 80\n",
    "            }\n",
    "        }\n",
    "    }\n",
    "}\n",
    "sampleDict['class']['student']['marks']['history']"
   ]
  },
  {
   "cell_type": "code",
   "execution_count": 19,
   "id": "c74fe21c",
   "metadata": {},
   "outputs": [
    {
     "name": "stdout",
     "output_type": "stream",
     "text": [
      "{'Kelly': {'designation': 'Developer', 'salary': 8000}, 'Emma': {'designation': 'Developer', 'salary': 8000}}\n",
      "{'Kelly': {'designation': 'Developer', 'salary': 8000}, 'Emma': {'designation': 'Developer', 'salary': 8000}}\n"
     ]
    }
   ],
   "source": [
    "#Initialize dictionary with default values\n",
    "employees = ['Kelly', 'Emma']\n",
    "defaults = {\"designation\": 'Developer', \"salary\": 8000}\n",
    "dc={}\n",
    "for ele in employees:\n",
    "    dc[ele]=defaults\n",
    "print(dc)\n",
    "res=dict.fromkeys(employees, defaults) #another method\n",
    "print(res)"
   ]
  },
  {
   "cell_type": "code",
   "execution_count": 22,
   "id": "d56cc2d3",
   "metadata": {},
   "outputs": [
    {
     "data": {
      "text/plain": [
       "{'age': 25, 'city': 'New york'}"
      ]
     },
     "execution_count": 22,
     "metadata": {},
     "output_type": "execute_result"
    }
   ],
   "source": [
    "#Create a dictionary by extracting the keys from a given dictionary\n",
    "sample_dict = {\n",
    "    \"name\": \"Kelly\",\n",
    "    \"age\": 25,\n",
    "    \"salary\": 8000,\n",
    "    \"city\": \"New york\"}\n",
    "\n",
    "# Keys to extract\n",
    "keys = [\"name\", \"salary\"]\n",
    "for ele in keys:\n",
    "    del sample_dict[ele]\n",
    "sample_dict    "
   ]
  },
  {
   "cell_type": "code",
   "execution_count": 24,
   "id": "1102a18c",
   "metadata": {},
   "outputs": [
    {
     "name": "stdout",
     "output_type": "stream",
     "text": [
      "present\n"
     ]
    }
   ],
   "source": [
    "# Check if a value exists in a dictionary\n",
    "sample_dict = {'a': 100, 'b': 200, 'c': 300}\n",
    "check= 200\n",
    "if 200 in sample_dict.values():\n",
    "    print(\"present\")\n",
    "    "
   ]
  },
  {
   "cell_type": "code",
   "execution_count": 26,
   "id": "a7054beb",
   "metadata": {},
   "outputs": [
    {
     "data": {
      "text/plain": [
       "{'name': 'Kelly', 'age': 25, 'salary': 8000, 'location': 'New york'}"
      ]
     },
     "execution_count": 26,
     "metadata": {},
     "output_type": "execute_result"
    }
   ],
   "source": [
    "#Rename key of a dictionary\n",
    "sample_dict = {\n",
    "  \"name\": \"Kelly\",\n",
    "  \"age\":25,\n",
    "  \"salary\": 8000,\n",
    "  \"city\": \"New york\"\n",
    "}\n",
    "sample_dict['location']= sample_dict.pop('city')\n",
    "sample_dict"
   ]
  },
  {
   "cell_type": "code",
   "execution_count": 33,
   "id": "abb85f2a",
   "metadata": {},
   "outputs": [
    {
     "data": {
      "text/plain": [
       "'Math'"
      ]
     },
     "execution_count": 33,
     "metadata": {},
     "output_type": "execute_result"
    }
   ],
   "source": [
    "#Get the key of a minimum value from the following dictionary\n",
    "sample_dict = {\n",
    "  'Physics': 82,\n",
    "  'Math': 65,\n",
    "  'history': 75\n",
    "}\n",
    "min(sample_dict, key= sample_dict.get)"
   ]
  },
  {
   "cell_type": "code",
   "execution_count": 1,
   "id": "061a541b",
   "metadata": {},
   "outputs": [
    {
     "data": {
      "text/plain": [
       "{1: 1, 2: 4, 3: 9, 4: 16, 5: 25, 6: 36, 7: 49, 8: 64, 9: 81, 10: 100}"
      ]
     },
     "execution_count": 1,
     "metadata": {},
     "output_type": "execute_result"
    }
   ],
   "source": [
    "#dictionary comprehension\n",
    "dc={num: num**2 for num in range(1,11)}\n",
    "dc\n",
    "\n"
   ]
  },
  {
   "cell_type": "code",
   "execution_count": 5,
   "id": "6b59141c",
   "metadata": {},
   "outputs": [
    {
     "data": {
      "text/plain": [
       "{'milk': 0.5142857142857142, 'egg': 0.09999999999999999}"
      ]
     },
     "execution_count": 5,
     "metadata": {},
     "output_type": "execute_result"
    }
   ],
   "source": [
    "#creating new dictionary using old dictionary\n",
    "#pricing from rupee to dollar\n",
    "rupee= {\"milk\":36, \"egg\":7}\n",
    "inc= 1/70\n",
    "dollar={item:value*inc for (item,value) in rupee.items()}\n",
    "dollar"
   ]
  },
  {
   "cell_type": "code",
   "execution_count": 8,
   "id": "7e1602d4",
   "metadata": {},
   "outputs": [
    {
     "data": {
      "text/plain": [
       "{'a': 2, 'c': 4}"
      ]
     },
     "execution_count": 8,
     "metadata": {},
     "output_type": "execute_result"
    }
   ],
   "source": [
    "#printing even values in dict\n",
    "dc={\"a\":2, \"b\":3, \"c\":4, \"d\":5}\n",
    "even_dc={key:val for (key,val) in dc.items() if val%2==0}\n",
    "even_dc"
   ]
  },
  {
   "cell_type": "code",
   "execution_count": 10,
   "id": "6229524a",
   "metadata": {},
   "outputs": [
    {
     "data": {
      "text/plain": [
       "{'sham': 42}"
      ]
     },
     "execution_count": 10,
     "metadata": {},
     "output_type": "execute_result"
    }
   ],
   "source": [
    "#printing even age and age>40\n",
    "age= {\"ram\":39, \"sham\":42, \"sita\":38, \"radha\":41}\n",
    "new_age= {name:age for (name,age) in age.items() if age%2==0 if age>40} #two if staements are equal to and operation\n",
    "new_age"
   ]
  },
  {
   "cell_type": "code",
   "execution_count": null,
   "id": "3665a2b2",
   "metadata": {},
   "outputs": [],
   "source": []
  }
 ],
 "metadata": {
  "kernelspec": {
   "display_name": "Python 3 (ipykernel)",
   "language": "python",
   "name": "python3"
  },
  "language_info": {
   "codemirror_mode": {
    "name": "ipython",
    "version": 3
   },
   "file_extension": ".py",
   "mimetype": "text/x-python",
   "name": "python",
   "nbconvert_exporter": "python",
   "pygments_lexer": "ipython3",
   "version": "3.9.12"
  }
 },
 "nbformat": 4,
 "nbformat_minor": 5
}
