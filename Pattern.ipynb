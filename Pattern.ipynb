{
 "cells": [
  {
   "cell_type": "markdown",
   "id": "79b36e2f",
   "metadata": {},
   "source": [
    "# Star Pattern"
   ]
  },
  {
   "cell_type": "code",
   "execution_count": 18,
   "id": "a294aaa7",
   "metadata": {},
   "outputs": [
    {
     "name": "stdout",
     "output_type": "stream",
     "text": [
      "enter the size of pattern: 6\n",
      "*\n",
      "**\n",
      "***\n",
      "****\n",
      "*****\n",
      "******\n"
     ]
    }
   ],
   "source": [
    "# right triangle \n",
    "n = int(input('enter the size of pattern: '))\n",
    "for i in range(1, n +1):\n",
    "    for j in range(i):\n",
    "        print('*', end = \"\")\n",
    "    print()"
   ]
  },
  {
   "cell_type": "code",
   "execution_count": 19,
   "id": "0d484762",
   "metadata": {},
   "outputs": [
    {
     "name": "stdout",
     "output_type": "stream",
     "text": [
      "enter the size of pattern: 6\n",
      "******\n",
      "*****\n",
      "****\n",
      "***\n",
      "**\n",
      "*\n"
     ]
    }
   ],
   "source": [
    "#inverted right triangle\n",
    "n = int(input('enter the size of pattern: '))\n",
    "for i in range(n):\n",
    "    for j in range(i, n):\n",
    "        print(\"*\", end= '')\n",
    "    print()    "
   ]
  },
  {
   "cell_type": "code",
   "execution_count": 30,
   "id": "c2551288",
   "metadata": {},
   "outputs": [
    {
     "name": "stdout",
     "output_type": "stream",
     "text": [
      "enter the size of pattern: 7\n",
      "       *\n",
      "      **\n",
      "     ***\n",
      "    ****\n",
      "   *****\n",
      "  ******\n",
      " *******\n"
     ]
    }
   ],
   "source": [
    "# mirrored right angle triangle\n",
    "n = int(input('enter the size of pattern: '))\n",
    "for i in range(n, 0, -1):\n",
    "    for j in range(n+1):\n",
    "        if j >= i:\n",
    "            print(\"*\", end= '')\n",
    "        else:\n",
    "            print(\" \", end ='')\n",
    "    print()"
   ]
  },
  {
   "cell_type": "code",
   "execution_count": 35,
   "id": "5d75276a",
   "metadata": {},
   "outputs": [
    {
     "name": "stdout",
     "output_type": "stream",
     "text": [
      "enter the size of pattern: 5\n",
      "*****\n",
      "****\n",
      "***\n",
      "**\n",
      "*\n"
     ]
    }
   ],
   "source": [
    "#mirrored inverted triangle\n",
    "n = int(input('enter the size of pattern: '))\n",
    "for i in range(n, 0, -1):\n",
    "    for j in range(n):\n",
    "        if j < i:\n",
    "            print(\"*\", end= '')\n",
    "    print()"
   ]
  },
  {
   "cell_type": "code",
   "execution_count": null,
   "id": "216748dd",
   "metadata": {},
   "outputs": [],
   "source": [
    "#pyramid of stars\n",
    "n = int(input('enter the size of pattern: '))\n",
    "for i in range(1, n+1):\n",
    "    for j in range(n):\n",
    "        "
   ]
  }
 ],
 "metadata": {
  "kernelspec": {
   "display_name": "Python 3 (ipykernel)",
   "language": "python",
   "name": "python3"
  },
  "language_info": {
   "codemirror_mode": {
    "name": "ipython",
    "version": 3
   },
   "file_extension": ".py",
   "mimetype": "text/x-python",
   "name": "python",
   "nbconvert_exporter": "python",
   "pygments_lexer": "ipython3",
   "version": "3.9.12"
  }
 },
 "nbformat": 4,
 "nbformat_minor": 5
}
