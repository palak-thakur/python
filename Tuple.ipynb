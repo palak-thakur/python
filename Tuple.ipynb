{
 "cells": [
  {
   "cell_type": "code",
   "execution_count": 5,
   "id": "aad9e4c7",
   "metadata": {},
   "outputs": [
    {
     "data": {
      "text/plain": [
       "64"
      ]
     },
     "execution_count": 5,
     "metadata": {},
     "output_type": "execute_result"
    }
   ],
   "source": [
    "#size of tuple\n",
    "import sys\n",
    "tu= (2, 3, 4, 5, 6)\n",
    "sys.getsizeof(tu)  #size with garbage collector\n",
    "tu.__sizeof__()    #built in, size without garbage collector"
   ]
  },
  {
   "cell_type": "code",
   "execution_count": 23,
   "id": "644eef35",
   "metadata": {},
   "outputs": [
    {
     "data": {
      "text/plain": [
       "[1, 2, 7, 8]"
      ]
     },
     "execution_count": 23,
     "metadata": {},
     "output_type": "execute_result"
    }
   ],
   "source": [
    "#maximum and minimum k elements\n",
    "k=2\n",
    "tu1= (6, 3, 7, 2, 8, 1)\n",
    "tu2=sorted(tu1)\n",
    "tu2[0:2] + tu2[-2:]\n",
    "\n"
   ]
  },
  {
   "cell_type": "code",
   "execution_count": 24,
   "id": "c798014b",
   "metadata": {},
   "outputs": [
    {
     "data": {
      "text/plain": [
       "20"
      ]
     },
     "execution_count": 24,
     "metadata": {},
     "output_type": "execute_result"
    }
   ],
   "source": [
    "#sum of tuple\n",
    "sum(tu)"
   ]
  },
  {
   "cell_type": "code",
   "execution_count": 6,
   "id": "99e4db0f",
   "metadata": {},
   "outputs": [
    {
     "data": {
      "text/plain": [
       "[(1, 1), (2, 8), (3, 27)]"
      ]
     },
     "execution_count": 6,
     "metadata": {},
     "output_type": "execute_result"
    }
   ],
   "source": [
    "#Python program to create a list of tuples from given list having number and its cube in each tuple\n",
    "ls = [1, 2, 3]\n",
    "ls1 = [(ele, ele**3) for ele in ls]\n",
    "ls1"
   ]
  },
  {
   "cell_type": "code",
   "execution_count": 10,
   "id": "2ce8c9d1",
   "metadata": {},
   "outputs": [
    {
     "data": {
      "text/plain": [
       "(4, 5, 6, 1, 2, 3, 4, 5, 6)"
      ]
     },
     "execution_count": 10,
     "metadata": {},
     "output_type": "execute_result"
    }
   ],
   "source": [
    "# adding list and tuple\n",
    "ls = [1, 2, 3]\n",
    "tu = (4, 5, 6)\n",
    "ls += tu  #give a list\n",
    "#res= tuple(list(tu) + ls) , give tuple\n",
    "\n"
   ]
  },
  {
   "cell_type": "code",
   "execution_count": 14,
   "id": "c94d21cb",
   "metadata": {},
   "outputs": [
    {
     "name": "stdout",
     "output_type": "stream",
     "text": [
      "(2, 5, 0, 1, 0)\n",
      "(2, 5, 0, 1, 0)\n"
     ]
    }
   ],
   "source": [
    "#Modulo of tuple elements\n",
    "tu1 = (2, 5, 8, 9, 10)\n",
    "tu2 = (4, 6, 8, 2, 5)\n",
    "res = tuple( ele % ele1 for ele, ele1 in zip(tu1, tu2))\n",
    "print(res)\n",
    "\n",
    "# 2nd method\n",
    "from operator import mod\n",
    "res1 = tuple(map(mod, tu1, tu2))\n",
    "print(res1)"
   ]
  },
  {
   "cell_type": "code",
   "execution_count": 44,
   "id": "b4b632a3",
   "metadata": {},
   "outputs": [
    {
     "name": "stdout",
     "output_type": "stream",
     "text": [
      "[[('gfg', 3, 1)], [('best', 1, 2)]]\n",
      "[[('gfg', 3, 1)], [('best', 1, 2)]]\n"
     ]
    }
   ],
   "source": [
    "# row wise element addition\n",
    "ls = [[('gfg', 3)], [('best', 1)]]\n",
    "ls1 = [1, 2]\n",
    "res = [[sub + (ls1[idx], ) for sub in val] for idx, val in enumerate(ls)]\n",
    "print(res)\n",
    "\n",
    "res1 = [[(x, y, ele1) for x, y in val] for val, ele1 in zip(ls, ls1) ]\n",
    "print(res1)\n",
    "\n",
    "\n",
    "    "
   ]
  },
  {
   "cell_type": "code",
   "execution_count": 49,
   "id": "f9dc8975",
   "metadata": {},
   "outputs": [
    {
     "data": {
      "text/plain": [
       "(6, 7, 8)"
      ]
     },
     "execution_count": 49,
     "metadata": {},
     "output_type": "execute_result"
    }
   ],
   "source": [
    "#adding 4 in tuple\n",
    "tu = (2, 3, 4)\n",
    "res =  [ele + 4 for ele in tu]\n",
    "tuple(res)"
   ]
  },
  {
   "cell_type": "code",
   "execution_count": 55,
   "id": "0889e2c5",
   "metadata": {},
   "outputs": [
    {
     "data": {
      "text/plain": [
       "(18, 48, 24)"
      ]
     },
     "execution_count": 55,
     "metadata": {},
     "output_type": "execute_result"
    }
   ],
   "source": [
    "# multiply adjacent elements\n",
    "tu = (3, 6, 8, 3)\n",
    "tu1 = tu[1:]\n",
    "res = tuple(ele * ele1 for ele, ele1 in zip(tu, tu1))\n",
    "res\n"
   ]
  },
  {
   "cell_type": "code",
   "execution_count": 72,
   "id": "5ea30a54",
   "metadata": {},
   "outputs": [
    {
     "data": {
      "text/plain": [
       "[(7, 7), (7, 8), (2, 7), (2, 8), (7, 7), (7, 2), (8, 7), (8, 2)]"
      ]
     },
     "execution_count": 72,
     "metadata": {},
     "output_type": "execute_result"
    }
   ],
   "source": [
    "# All pair combinations of 2 tuples\n",
    "tu1 = (7, 2)\n",
    "tu2 = (7, 8)\n",
    "res = [(x, y) for x in tu1 for y in tu2]\n",
    "res += [(x, y) for x in tu2 for y in tu1]\n",
    "res"
   ]
  },
  {
   "cell_type": "code",
   "execution_count": 78,
   "id": "d65fd34c",
   "metadata": {},
   "outputs": [
    {
     "name": "stdout",
     "output_type": "stream",
     "text": [
      "[(4,), (8, 6, 7), (1,), (3, 4, 6, 7)]\n",
      "[(4,), (8, 6, 7), (1,), (3, 4, 6, 7)]\n"
     ]
    }
   ],
   "source": [
    "# Remove Tuples of Length K\n",
    "ls = [(4, 5), (4, ), (8, 6, 7), (1, ), (3, 4, 6, 7)]\n",
    "K = 2\n",
    "res =[ele for ele in ls if len(ele)!= K]\n",
    "print(res)\n",
    "\n",
    "res1= list(filter(lambda x: len(x)!= K, ls)) #second method\n",
    "print(res1)"
   ]
  },
  {
   "cell_type": "code",
   "execution_count": 13,
   "id": "7e138fb4",
   "metadata": {},
   "outputs": [
    {
     "name": "stdout",
     "output_type": "stream",
     "text": [
      "[(3, 4), (12, 3)]\n",
      "[(None, 2), (3, 4), (12, 3)]\n"
     ]
    }
   ],
   "source": [
    "#remove tuple from list having every element as none\n",
    "tu= [(None, 2), (None, None), (3, 4), (12, 3), (None, )]\n",
    "res = [ele for ele in tu if all(ele)==True] #with no none value\n",
    "res1 = [ele for ele in tu if any(ele)==True] #can have 1 non none value\n",
    "print(res, res1, sep= \"\\n\")"
   ]
  },
  {
   "cell_type": "code",
   "execution_count": 19,
   "id": "c1739182",
   "metadata": {},
   "outputs": [
    {
     "data": {
      "text/plain": [
       "[(2, 1), (8, 3), (4, 6), (3, 9)]"
      ]
     },
     "execution_count": 19,
     "metadata": {},
     "output_type": "execute_result"
    }
   ],
   "source": [
    "#sorting by second item\n",
    "ls = [(4, 6), (8, 3), (3, 9), (2, 1)]\n",
    "ls.sort(key = lambda x: x[1])\n",
    "ls"
   ]
  },
  {
   "cell_type": "code",
   "execution_count": 30,
   "id": "58c9d073",
   "metadata": {},
   "outputs": [
    {
     "data": {
      "text/plain": [
       "[(8,), (3, 4), (1, 3, 5), (4, 5, 6, 7)]"
      ]
     },
     "execution_count": 30,
     "metadata": {},
     "output_type": "execute_result"
    }
   ],
   "source": [
    "#sort tuple by total digits\n",
    "ls = [(1, 3, 5), (3, 4), (4, 5, 6, 7), (8, )]\n",
    "ls.sort(key = lambda x: len(x))\n",
    "ls"
   ]
  },
  {
   "cell_type": "code",
   "execution_count": 49,
   "id": "bdb886f6",
   "metadata": {},
   "outputs": [
    {
     "name": "stdout",
     "output_type": "stream",
     "text": [
      "{2: 11, 4: 11, 5: 9, 6: 7, 7: 7, 8: 7}\n",
      "{2: 3, 4: 3, 5: 2, 6: 1, 7: 1, 8: 1}\n"
     ]
    }
   ],
   "source": [
    "# element frequency\n",
    "tu = (2, 4, 2, 5, 4, 6, 7, 8, 5, 4, 2)\n",
    "dc = {ele : dc.get(ele, 0) +1 for ele in tu} #using dictionary\n",
    "\n",
    "from collections import Counter\n",
    "res = dict(Counter(tu))  #using counter\n",
    "print(dc, res, sep = \"\\n\")    "
   ]
  },
  {
   "cell_type": "code",
   "execution_count": 57,
   "id": "998959ac",
   "metadata": {},
   "outputs": [
    {
     "data": {
      "text/plain": [
       "[(2, 3, 2), (4, 5, 6, 2), (5, 6, 1)]"
      ]
     },
     "execution_count": 57,
     "metadata": {},
     "output_type": "execute_result"
    }
   ],
   "source": [
    "# assign frequency to tuples\n",
    "tu = [(2, 3), (4, 5, 6), (5, 6), (4, 5, 6), (2, 3)]\n",
    "from collections import Counter\n",
    "res = dict(Counter(tu))\n",
    "ls = [key + (val, ) for key, val in res.items()]\n",
    "ls"
   ]
  },
  {
   "cell_type": "code",
   "execution_count": 60,
   "id": "0a431a25",
   "metadata": {},
   "outputs": [
    {
     "data": {
      "text/plain": [
       "[(6, 3, 8), (4, 3, 2)]"
      ]
     },
     "execution_count": 60,
     "metadata": {},
     "output_type": "execute_result"
    }
   ],
   "source": [
    "# record with value at k index\n",
    "tu = [(3, 1, 4), (6, 3, 8), (5, 8, 9), (4, 3, 2)]\n",
    "x, k = 3, 1\n",
    "#find record with 3 at index 1\n",
    "res = [ele for ele in tu if ele[k] == x]\n",
    "res\n"
   ]
  },
  {
   "cell_type": "code",
   "execution_count": 62,
   "id": "a2451d27",
   "metadata": {},
   "outputs": [
    {
     "name": "stdout",
     "output_type": "stream",
     "text": [
      "False\n"
     ]
    }
   ],
   "source": [
    "# to test if tuple is distinct\n",
    "tu = (2, 6, 9, 3, 7, 2)\n",
    "if len(set(tu)) == len(tu):\n",
    "    print(True)\n",
    "else:\n",
    "    print(False)\n",
    "    "
   ]
  },
  {
   "cell_type": "code",
   "execution_count": null,
   "id": "a39a835b",
   "metadata": {},
   "outputs": [],
   "source": []
  }
 ],
 "metadata": {
  "kernelspec": {
   "display_name": "Python 3 (ipykernel)",
   "language": "python",
   "name": "python3"
  },
  "language_info": {
   "codemirror_mode": {
    "name": "ipython",
    "version": 3
   },
   "file_extension": ".py",
   "mimetype": "text/x-python",
   "name": "python",
   "nbconvert_exporter": "python",
   "pygments_lexer": "ipython3",
   "version": "3.9.12"
  }
 },
 "nbformat": 4,
 "nbformat_minor": 5
}
